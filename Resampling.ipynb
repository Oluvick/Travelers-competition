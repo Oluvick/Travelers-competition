{
 "cells": [
  {
   "cell_type": "code",
   "execution_count": 94,
   "id": "865fd7c9-ce71-4cec-b729-450a9f5c7ace",
   "metadata": {
    "tags": []
   },
   "outputs": [],
   "source": [
    "import numpy as np\n",
    "import numpy as np\n",
    "import pandas as pd\n",
    "from sklearn.model_selection import train_test_split\n",
    "from imblearn.over_sampling import SMOTE\n",
    "from imblearn.under_sampling import RandomUnderSampler\n",
    "from imblearn.pipeline import Pipeline\n",
    "from sklearn.ensemble import RandomForestClassifier\n",
    "from sklearn.metrics import classification_report, accuracy_score, confusion_matrix\n"
   ]
  },
  {
   "cell_type": "code",
   "execution_count": 95,
   "id": "36969a49-08e8-45a8-9a10-0cfa779198a6",
   "metadata": {
    "tags": []
   },
   "outputs": [],
   "source": [
    "train_data=pd.read_csv('InsNova_data_2023_train.csv/InsNova_data_2023_train.csv')\n",
    "train_data=train_data.set_index('id')\n",
    "test_data=pd.read_csv('InsNova_data_2023_vh.csv/InsNova_data_2023_vh.csv')\n",
    "test_data=test_data.set_index('id')\n",
    "train_data.dropna(inplace=True)\n",
    "train_data=train_data.drop(['numclaims','claimcst0'],axis=1)\n",
    "label_mapping_body = {'BUS':0, 'CONVT':1, 'COUPE':2,'HBACK':3,'HDTOP':4,'MCARA':5, 'MIBUS':6,'PANVN':7, 'RDSTR':8, 'SEDAN':9,'STNWG':10, 'TRUCK':11,'UTE':12}\n",
    "label_mapping_gender={'M':1, 'F':2}\n",
    "label_mapping_area={'A':1, 'B':2,'C':3,'D':4,'E':5,'F':6}\n",
    "label_mapping_engine={'petrol':1, 'electric':2, 'dissel':3, 'hybrid':4}\n",
    "label_mapping_color={'black':1, 'white':2, 'gray':3, 'blue':4, 'brown':5, 'silver':6,'green':7, 'red':8, 'yellow':9}\n",
    "label_mapping_status={'S':0, 'M':1}\n",
    "label_mapping_week={'weekday':0,'weekend':1}\n",
    "label_mapping_time={'6pm - 12am':0, '6am - 12pm':1, '12pm - 6pm':2, '12am - 6 am':3}\n",
    "\n",
    "train_data['veh_body_label'] = train_data['veh_body'].map(label_mapping_body)\n",
    "train_data['gender_label'] = train_data['gender'].map(label_mapping_gender)\n",
    "train_data['area_label'] = train_data['area'].map(label_mapping_area)\n",
    "train_data['engine_type_label'] = train_data['engine_type'].map(label_mapping_engine)\n",
    "train_data['veh_color_label'] = train_data['veh_color'].map(label_mapping_color)\n",
    "train_data['status_label'] = train_data['marital_status'].map(label_mapping_status)\n",
    "train_data['week_label'] = train_data['time_of_week_driven'].map(label_mapping_week)\n",
    "train_data['time_label'] = train_data['time_driven'].map(label_mapping_time)\n",
    "\n",
    "test_data['veh_body_label'] = test_data['veh_body'].map(label_mapping_body)\n",
    "test_data['gender_label'] = test_data['gender'].map(label_mapping_gender)\n",
    "test_data['area_label'] = test_data['area'].map(label_mapping_area)\n",
    "test_data['engine_type_label'] = test_data['engine_type'].map(label_mapping_engine)\n",
    "test_data['veh_color_label'] = test_data['veh_color'].map(label_mapping_color)\n",
    "test_data['status_label'] = test_data['marital_status'].map(label_mapping_status)\n",
    "test_data['week_label'] = test_data['time_of_week_driven'].map(label_mapping_week)\n",
    "test_data['time_label'] = test_data['time_driven'].map(label_mapping_time)\n",
    "\n",
    "Drop_column=['veh_body','gender','engine_type','area','veh_color','marital_status','time_of_week_driven','time_driven']\n",
    "train_data1=train_data.drop(columns=Drop_column,axis=1)\n",
    "X_train=train_data1.drop('clm',axis=1)\n",
    "y_train=train_data1['clm']\n",
    "X_test_vh=test_data.drop(columns=Drop_column,axis=1)\n",
    "\n"
   ]
  },
  {
   "cell_type": "code",
   "execution_count": 96,
   "id": "d35573be-d473-40e7-8a17-a9e1d5bead46",
   "metadata": {
    "tags": []
   },
   "outputs": [],
   "source": [
    "X_train, X_test, y_train, y_test = train_test_split(X_train, y_train, test_size=0.2, random_state=42)\n"
   ]
  },
  {
   "cell_type": "code",
   "execution_count": 97,
   "id": "f84c581d-f089-429b-915a-edbff1b97c3b",
   "metadata": {
    "tags": []
   },
   "outputs": [],
   "source": [
    "resampling_pipeline = Pipeline([\n",
    "    ('oversample', SMOTE(sampling_strategy=0.5)),  # Adjust the sampling_strategy as needed\n",
    "    ('undersample', RandomUnderSampler(sampling_strategy=0.8))  # Adjust the sampling_strategy as needed\n",
    "])\n"
   ]
  },
  {
   "cell_type": "code",
   "execution_count": 98,
   "id": "011df640-1a44-4d4b-86be-b5ae56d253e2",
   "metadata": {},
   "outputs": [],
   "source": [
    "X_resampled, y_resampled = resampling_pipeline.fit_resample(X_train, y_train)"
   ]
  },
  {
   "cell_type": "code",
   "execution_count": 99,
   "id": "6444b464-82bd-4da4-aa07-b1b887721a05",
   "metadata": {},
   "outputs": [
    {
     "data": {
      "text/html": [
       "<style>#sk-container-id-15 {color: black;}#sk-container-id-15 pre{padding: 0;}#sk-container-id-15 div.sk-toggleable {background-color: white;}#sk-container-id-15 label.sk-toggleable__label {cursor: pointer;display: block;width: 100%;margin-bottom: 0;padding: 0.3em;box-sizing: border-box;text-align: center;}#sk-container-id-15 label.sk-toggleable__label-arrow:before {content: \"▸\";float: left;margin-right: 0.25em;color: #696969;}#sk-container-id-15 label.sk-toggleable__label-arrow:hover:before {color: black;}#sk-container-id-15 div.sk-estimator:hover label.sk-toggleable__label-arrow:before {color: black;}#sk-container-id-15 div.sk-toggleable__content {max-height: 0;max-width: 0;overflow: hidden;text-align: left;background-color: #f0f8ff;}#sk-container-id-15 div.sk-toggleable__content pre {margin: 0.2em;color: black;border-radius: 0.25em;background-color: #f0f8ff;}#sk-container-id-15 input.sk-toggleable__control:checked~div.sk-toggleable__content {max-height: 200px;max-width: 100%;overflow: auto;}#sk-container-id-15 input.sk-toggleable__control:checked~label.sk-toggleable__label-arrow:before {content: \"▾\";}#sk-container-id-15 div.sk-estimator input.sk-toggleable__control:checked~label.sk-toggleable__label {background-color: #d4ebff;}#sk-container-id-15 div.sk-label input.sk-toggleable__control:checked~label.sk-toggleable__label {background-color: #d4ebff;}#sk-container-id-15 input.sk-hidden--visually {border: 0;clip: rect(1px 1px 1px 1px);clip: rect(1px, 1px, 1px, 1px);height: 1px;margin: -1px;overflow: hidden;padding: 0;position: absolute;width: 1px;}#sk-container-id-15 div.sk-estimator {font-family: monospace;background-color: #f0f8ff;border: 1px dotted black;border-radius: 0.25em;box-sizing: border-box;margin-bottom: 0.5em;}#sk-container-id-15 div.sk-estimator:hover {background-color: #d4ebff;}#sk-container-id-15 div.sk-parallel-item::after {content: \"\";width: 100%;border-bottom: 1px solid gray;flex-grow: 1;}#sk-container-id-15 div.sk-label:hover label.sk-toggleable__label {background-color: #d4ebff;}#sk-container-id-15 div.sk-serial::before {content: \"\";position: absolute;border-left: 1px solid gray;box-sizing: border-box;top: 0;bottom: 0;left: 50%;z-index: 0;}#sk-container-id-15 div.sk-serial {display: flex;flex-direction: column;align-items: center;background-color: white;padding-right: 0.2em;padding-left: 0.2em;position: relative;}#sk-container-id-15 div.sk-item {position: relative;z-index: 1;}#sk-container-id-15 div.sk-parallel {display: flex;align-items: stretch;justify-content: center;background-color: white;position: relative;}#sk-container-id-15 div.sk-item::before, #sk-container-id-15 div.sk-parallel-item::before {content: \"\";position: absolute;border-left: 1px solid gray;box-sizing: border-box;top: 0;bottom: 0;left: 50%;z-index: -1;}#sk-container-id-15 div.sk-parallel-item {display: flex;flex-direction: column;z-index: 1;position: relative;background-color: white;}#sk-container-id-15 div.sk-parallel-item:first-child::after {align-self: flex-end;width: 50%;}#sk-container-id-15 div.sk-parallel-item:last-child::after {align-self: flex-start;width: 50%;}#sk-container-id-15 div.sk-parallel-item:only-child::after {width: 0;}#sk-container-id-15 div.sk-dashed-wrapped {border: 1px dashed gray;margin: 0 0.4em 0.5em 0.4em;box-sizing: border-box;padding-bottom: 0.4em;background-color: white;}#sk-container-id-15 div.sk-label label {font-family: monospace;font-weight: bold;display: inline-block;line-height: 1.2em;}#sk-container-id-15 div.sk-label-container {text-align: center;}#sk-container-id-15 div.sk-container {/* jupyter's `normalize.less` sets `[hidden] { display: none; }` but bootstrap.min.css set `[hidden] { display: none !important; }` so we also need the `!important` here to be able to override the default hidden behavior on the sphinx rendered scikit-learn.org. See: https://github.com/scikit-learn/scikit-learn/issues/21755 */display: inline-block !important;position: relative;}#sk-container-id-15 div.sk-text-repr-fallback {display: none;}</style><div id=\"sk-container-id-15\" class=\"sk-top-container\"><div class=\"sk-text-repr-fallback\"><pre>RandomForestClassifier()</pre><b>In a Jupyter environment, please rerun this cell to show the HTML representation or trust the notebook. <br />On GitHub, the HTML representation is unable to render, please try loading this page with nbviewer.org.</b></div><div class=\"sk-container\" hidden><div class=\"sk-item\"><div class=\"sk-estimator sk-toggleable\"><input class=\"sk-toggleable__control sk-hidden--visually\" id=\"sk-estimator-id-15\" type=\"checkbox\" checked><label for=\"sk-estimator-id-15\" class=\"sk-toggleable__label sk-toggleable__label-arrow\">RandomForestClassifier</label><div class=\"sk-toggleable__content\"><pre>RandomForestClassifier()</pre></div></div></div></div></div>"
      ],
      "text/plain": [
       "RandomForestClassifier()"
      ]
     },
     "execution_count": 99,
     "metadata": {},
     "output_type": "execute_result"
    }
   ],
   "source": [
    "classifier = RandomForestClassifier()\n",
    "classifier.fit(X_resampled, y_resampled)"
   ]
  },
  {
   "cell_type": "code",
   "execution_count": 100,
   "id": "e46521a0-a602-4008-81a6-bd66d902b2de",
   "metadata": {},
   "outputs": [
    {
     "name": "stdout",
     "output_type": "stream",
     "text": [
      "Accuracy: 0.8908045977011494\n",
      "Confusion Matrix:\n",
      " [[4009  198]\n",
      " [ 296   21]]\n",
      "Classification Report:\n",
      "               precision    recall  f1-score   support\n",
      "\n",
      "           0       0.93      0.95      0.94      4207\n",
      "           1       0.10      0.07      0.08       317\n",
      "\n",
      "    accuracy                           0.89      4524\n",
      "   macro avg       0.51      0.51      0.51      4524\n",
      "weighted avg       0.87      0.89      0.88      4524\n",
      "\n"
     ]
    }
   ],
   "source": [
    "y_pred = classifier.predict(X_test)\n",
    "X_test.loc[:, 'clm'] = y_pred\n",
    "X_test.to_csv('result_test.csv', index=False)\n",
    "print(\"Accuracy:\", accuracy_score(y_test, y_pred))\n",
    "print(\"Confusion Matrix:\\n\", confusion_matrix(y_test, y_pred))\n",
    "print(\"Classification Report:\\n\", classification_report(y_test, y_pred))"
   ]
  },
  {
   "cell_type": "code",
   "execution_count": 101,
   "id": "d1f7158d-369c-4548-865c-f2b57736ae5c",
   "metadata": {},
   "outputs": [],
   "source": [
    "y_pred_vh = classifier.predict(X_test_vh)\n",
    "X_test_vh.loc[:, 'clm'] = y_pred_vh\n",
    "X_test_vh.to_csv('result_vh.csv', index=False)"
   ]
  },
  {
   "cell_type": "code",
   "execution_count": 102,
   "id": "61266eeb-778b-4603-be93-83d127206456",
   "metadata": {},
   "outputs": [
    {
     "data": {
      "text/plain": [
       "clm\n",
       "0    21426\n",
       "1     1194\n",
       "Name: count, dtype: int64"
      ]
     },
     "execution_count": 102,
     "metadata": {},
     "output_type": "execute_result"
    }
   ],
   "source": [
    "X_test_vh.clm.value_counts()"
   ]
  },
  {
   "cell_type": "code",
   "execution_count": null,
   "id": "d5e133c2-85a8-46d7-8bad-a201e1ad7962",
   "metadata": {},
   "outputs": [],
   "source": []
  },
  {
   "cell_type": "code",
   "execution_count": null,
   "id": "2234c1c4-73a3-473e-a0f1-6bea4d17de43",
   "metadata": {},
   "outputs": [],
   "source": []
  },
  {
   "cell_type": "code",
   "execution_count": null,
   "id": "d469c846-a19b-4fcb-abef-0bd9528c3e71",
   "metadata": {},
   "outputs": [],
   "source": [
    "\n"
   ]
  }
 ],
 "metadata": {
  "kernelspec": {
   "display_name": "Python 3 (ipykernel)",
   "language": "python",
   "name": "python3"
  },
  "language_info": {
   "codemirror_mode": {
    "name": "ipython",
    "version": 3
   },
   "file_extension": ".py",
   "mimetype": "text/x-python",
   "name": "python",
   "nbconvert_exporter": "python",
   "pygments_lexer": "ipython3",
   "version": "3.11.5"
  }
 },
 "nbformat": 4,
 "nbformat_minor": 5
}
